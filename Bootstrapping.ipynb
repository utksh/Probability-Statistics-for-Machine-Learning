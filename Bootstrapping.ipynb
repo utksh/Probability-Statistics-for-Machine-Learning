{
 "cells": [
  {
   "cell_type": "markdown",
   "metadata": {},
   "source": [
    "# Confidence interval using Bootstrapping."
   ]
  },
  {
   "cell_type": "markdown",
   "metadata": {},
   "source": [
    "In statistics, a confidence interval (CI) is a type of interval estimate, computed from the statistics of the observed data,\n",
    "that might contain the true value of an unknown population parameter(mean, median, percentile). The interval has an associated \n",
    "confidence level that, loosely speaking, quantifies the level of confidence that the parameter lies in the interval. More \n",
    "strictly speaking, the confidence level represents the frequency (i.e. the proportion) of possible confidence intervals that \n",
    "contain the true value of the unknown population parameter."
   ]
  },
  {
   "cell_type": "markdown",
   "metadata": {},
   "source": [
    "### In this example we are calculating the 95% confidence interval for the median of the give sample."
   ]
  },
  {
   "cell_type": "code",
   "execution_count": 8,
   "metadata": {
    "collapsed": true
   },
   "outputs": [],
   "source": [
    "import numpy \n",
    "import pandas as pd\n",
    "from sklearn.utils import resample\n",
    "from matplotlib import pyplot\n"
   ]
  },
  {
   "cell_type": "code",
   "execution_count": 16,
   "metadata": {
    "collapsed": true
   },
   "outputs": [],
   "source": [
    "#sample of size n\n",
    "x = numpy.array([180,162,158,172,168,150,171,183,165,176])"
   ]
  },
  {
   "cell_type": "code",
   "execution_count": 12,
   "metadata": {},
   "outputs": [],
   "source": [
    "n_iterations = 1000\n",
    "n_size = int(len(x))\n"
   ]
  },
  {
   "cell_type": "code",
   "execution_count": 13,
   "metadata": {},
   "outputs": [],
   "source": [
    "#Generating 1000 random sample of size n_size\n",
    "medians = list()\n",
    "for i in range(n_iterations):\n",
    "    s = resample(x, n_samples = n_size)\n",
    "    m = numpy.median(s)\n",
    "    medians.append(m)\n",
    "    "
   ]
  },
  {
   "cell_type": "code",
   "execution_count": 14,
   "metadata": {},
   "outputs": [
    {
     "data": {
      "image/png": "[encoded data removed]",
      "text/plain": [
       "<matplotlib.figure.Figure at 0x6b9f4475f8>"
      ]
     },
     "metadata": {},
     "output_type": "display_data"
    }
   ],
   "source": [
    "#plotting the median of all the sample\n",
    "pyplot.hist(medians)\n",
    "pyplot.show()"
   ]
  },
  {
   "cell_type": "code",
   "execution_count": 19,
   "metadata": {},
   "outputs": [
    {
     "name": "stdout",
     "output_type": "stream",
     "text": [
      "95% confidence interval of median is 161.9875 and 176.0\n"
     ]
    }
   ],
   "source": [
    "#95% confidence interval\n",
    "alpha = 0.95\n",
    "#Getting lower interval of 2.5 \n",
    "p = ((1.0-alpha)/2.0)*100\n",
    "lower = numpy.percentile(medians,p)\n",
    "#Getting upper interval of 97.5\n",
    "p = (alpha+((1.0-alpha)/2.0))*100\n",
    "upper = numpy.percentile(medians, p)\n",
    "\n",
    "print('95% confidence interval of median is {} and {}'.format(lower, upper))"
   ]
  },
  {
   "cell_type": "code",
   "execution_count": null,
   "metadata": {
    "collapsed": true
   },
   "outputs": [],
   "source": []
  }
 ],
 "metadata": {
  "kernelspec": {
   "display_name": "Python 3",
   "language": "python",
   "name": "python3"
  },
  "language_info": {
   "codemirror_mode": {
    "name": "ipython",
    "version": 3
   },
   "file_extension": ".py",
   "mimetype": "text/x-python",
   "name": "python",
   "nbconvert_exporter": "python",
   "pygments_lexer": "ipython3",
   "version": "3.6.2"
  }
 },
 "nbformat": 4,
 "nbformat_minor": 2
}
